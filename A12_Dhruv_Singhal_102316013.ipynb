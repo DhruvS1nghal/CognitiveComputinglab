{
 "cells": [
  {
   "cell_type": "markdown",
   "metadata": {},
   "source": [
    "# HealthBot - Trained Chatbot for Healthcare\n",
    "**Name: Dhruv Singhal**  \n",
    "**Roll Number: 102316013**"
   ]
  },
  {
   "cell_type": "code",
   "execution_count": null,
   "metadata": {},
   "outputs": [],
   "source": [

   ]
  },
  {
   "cell_type": "code",
   "execution_count": null,
   "metadata": {},
   "outputs": [],
   "source": [
    "import nltk\n",
    "from sklearn.feature_extraction.text import TfidfVectorizer\n",
    "from sklearn.linear_model import LogisticRegression\n",
    "import numpy as np\n",
    "\n",
    "nltk.download('punkt')"
   ]
  },
  {
   "cell_type": "code",
   "execution_count": null,
   "metadata": {},
   "outputs": [],
   "source": [
    "conversations = [\n",
    "    (\"hi\", \"Hello! I am HealthBot. How can I assist you today?\"),\n",
    "    (\"hello\", \"Hi! Do you have a health-related question?\"),\n",
    "    (\"i have a headache\", \"You should rest, stay hydrated, and take a mild pain reliever if needed.\"),\n",
    "    (\"what should i do if i have a fever\", \"Drink plenty of fluids and rest. If the fever persists, please consult a doctor.\"),\n",
    "    (\"i feel dizzy\", \"Sit down, breathe deeply, and drink water. If it continues, seek medical help.\"),\n",
    "    (\"what should i eat for a cold\", \"Warm fluids, soups, citrus fruits, and light meals help during a cold.\"),\n",
    "    (\"how to stay healthy\", \"Eat balanced meals, exercise regularly, stay hydrated, and get enough sleep.\"),\n",
    "    (\"what should i do in case of a cut\", \"Clean the wound with water, apply antiseptic, and cover it with a clean bandage.\"),\n",
    "    (\"how much water should i drink daily\", \"Generally, 2 to 3 liters per day is recommended, but it varies based on your activity.\"),\n",
    "    (\"thank you\", \"You’re welcome! Take care.\"),\n",
    "    (\"bye\", \"Goodbye! Stay healthy.\")\n",
    "]"
   ]
  },
  {
   "cell_type": "code",
   "execution_count": null,
   "metadata": {},
   "outputs": [],
   "source": [
    "questions, answers = zip(*conversations)\n",
    "\n",
    "vectorizer = TfidfVectorizer()\n",
    "X = vectorizer.fit_transform(questions)\n",
    "\n",
    "y = list(range(len(answers)))\n",
    "\n",
    "model = LogisticRegression()\n",
    "model.fit(X, y)"
   ]
  },
  {
   "cell_type": "code",
   "execution_count": null,
   "metadata": {},
   "outputs": [],
   "source": [
    "def chat():\n",
    "    print(\"HealthBot is ready! Type 'exit' to quit.\\n\")\n",
    "    while True:\n",
    "        user_input = input(\"You: \").strip().lower()\n",
    "        if user_input == 'exit':\n",
    "            print(\"HealthBot: Goodbye! Stay healthy.\")\n",
    "            break\n",
    "        user_vec = vectorizer.transform([user_input])\n",
    "        pred = model.predict(user_vec)[0]\n",
    "        print(\"HealthBot:\", answers[pred])"
   ]
  },
  {
   "cell_type": "code",
   "execution_count": null,
   "metadata": {},
   "outputs": [],
   "source": []
  },
  {
   "cell_type": "code",
   "execution_count": null,
   "metadata": {},
   "outputs": [],
   "source": [
    "chat()"
   ]
  }
 ],
 "metadata": {
  "kernelspec": {
   "display_name": "Python 3",
   "language": "python",
   "name": "python3"
  },
  "language_info": {
   "name": "python",
   "version": "3.8"
  }
 },
 "nbformat": 4,
 "nbformat_minor": 2
}
